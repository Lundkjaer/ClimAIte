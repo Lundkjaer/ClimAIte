{
 "cells": [
  {
   "cell_type": "code",
   "execution_count": 18,
   "metadata": {},
   "outputs": [],
   "source": [
    "import pandas as pd\n",
    "import numpy as np"
   ]
  },
  {
   "cell_type": "code",
   "execution_count": 20,
   "metadata": {},
   "outputs": [],
   "source": [
    "F04 = pd.read_csv(r\"C:\\Users\\sebas\\Documents\\GitHub\\ClimAIte\\Calibration\\Classroom Temperatures\\F04 Classroom 10 Temperature.csv\", parse_dates=[\"DateTime\"], index_col=[\"DateTime\"])\n",
    "F16 = pd.read_csv(r\"C:\\Users\\sebas\\Documents\\GitHub\\ClimAIte\\Calibration\\Classroom Temperatures\\F16 Classroom 8 Temperature.csv\", parse_dates=[\"DateTime\"], index_col=[\"DateTime\"])\n",
    "G13 = pd.read_csv(r\"C:\\Users\\sebas\\Documents\\GitHub\\ClimAIte\\Calibration\\Classroom Temperatures\\G13 Classroom 2 Temp.csv\", parse_dates=[\"DateTime\"], index_col=[\"DateTime\"])\n",
    "G36 = pd.read_csv(r\"C:\\Users\\sebas\\Documents\\GitHub\\ClimAIte\\Calibration\\Classroom Temperatures\\G36 Classroom 5 Temp.csv\", parse_dates=[\"DateTime\"], index_col=[\"DateTime\"])"
   ]
  },
  {
   "cell_type": "code",
   "execution_count": 23,
   "metadata": {},
   "outputs": [],
   "source": [
    "F04 = F04.resample('H').mean().round(1)\n",
    "F16 = F16.resample('H').mean().round(1)\n",
    "G13 = G13.resample('H').mean().round(1)\n",
    "G36 = G36.resample('H').mean().round(1)"
   ]
  },
  {
   "cell_type": "code",
   "execution_count": 127,
   "metadata": {},
   "outputs": [],
   "source": [
    "z1_ground = pd.DataFrame()\n",
    "z1_ground['F04'] = F04\n",
    "z1_ground['F16'] = F16\n",
    "z1_ground['Avg_T'] = z1_ground[['F16', 'F04']].mean(axis=1).round(1)\n",
    "z1_ground = z1_ground.loc['2022']\n",
    "z1_ground.fillna(method='ffill',inplace=True)\n",
    "\n",
    "z2_first = pd.DataFrame()\n",
    "z2_first['G13'] = G13\n",
    "z2_first['G36'] = G36\n",
    "z2_first['Avg_T'] = z2_first[['G13', 'G36']].mean(axis=1).round(1)\n",
    "z2_first = z2_first.loc['2022']\n",
    "z2_first.fillna(method='ffill',inplace=True)"
   ]
  },
  {
   "cell_type": "code",
   "execution_count": null,
   "metadata": {},
   "outputs": [],
   "source": [
    "# Z1_Ground.loc['2022']\n",
    "# pd.Timestamp.isocalendar(Z1_Ground.loc['2022'[:]])\n",
    "# Z1_Ground['Week_Number'] = pd.DatetimeIndex.isocalendar(Z1_Ground[:[0]]).week()"
   ]
  },
  {
   "cell_type": "code",
   "execution_count": 128,
   "metadata": {},
   "outputs": [],
   "source": [
    "z1_ground.to_csv(r'C:\\Users\\sebas\\Documents\\GitHub\\ClimAIte\\Calibration\\Classroom Temperatures\\z1_ground_avg_T.csv')\n",
    "z2_first.to_csv(r'C:\\Users\\sebas\\Documents\\GitHub\\ClimAIte\\Calibration\\Classroom Temperatures\\z2_first_avg_T.csv')"
   ]
  },
  {
   "cell_type": "code",
   "execution_count": null,
   "metadata": {},
   "outputs": [],
   "source": [
    "# EPW manipulations\n",
    "\n",
    "# epwdf = pd.read_csv(\"W:\\Insync\\GDrive\\Main\\TU Delft\\Thesis\\EnergyPlus\\Weather data\\Lake Vyrnwy 2022-23 repaired.epw\",skiprows=8, index_col=False)\n",
    "# epwdf.isna().sum()\n",
    "# epwdf.fillna(method='ffill',inplace=True)\n",
    "# epwdf.isna().sum()\n",
    "# epwdf.iloc[:, [12,13,14,15]]\n",
    "# epwdf.to_csv(\"W:\\Insync\\GDrive\\Main\\TU Delft\\Thesis\\EnergyPlus\\Weather data\\Lake Vyrnwy 2022-23 repaired filled-NA.epw\", index=False)"
   ]
  }
 ],
 "metadata": {
  "kernelspec": {
   "display_name": "Python 3",
   "language": "python",
   "name": "python3"
  },
  "language_info": {
   "codemirror_mode": {
    "name": "ipython",
    "version": 3
   },
   "file_extension": ".py",
   "mimetype": "text/x-python",
   "name": "python",
   "nbconvert_exporter": "python",
   "pygments_lexer": "ipython3",
   "version": "3.11.0"
  },
  "orig_nbformat": 4,
  "vscode": {
   "interpreter": {
    "hash": "1b1170fc97ef267928b9e3be2bafce44f28de6f70dccb90c85dc5acae2d70fa3"
   }
  }
 },
 "nbformat": 4,
 "nbformat_minor": 2
}
