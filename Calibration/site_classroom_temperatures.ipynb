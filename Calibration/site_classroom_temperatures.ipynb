{
 "cells": [
  {
   "cell_type": "code",
   "execution_count": 134,
   "metadata": {},
   "outputs": [],
   "source": [
    "import pandas as pd\n",
    "import numpy as np"
   ]
  },
  {
   "cell_type": "code",
   "execution_count": 135,
   "metadata": {},
   "outputs": [],
   "source": [
    "F04 = pd.read_csv(r\"C:\\Users\\sebas\\Documents\\GitHub\\ClimAIte\\Calibration\\Classroom Temperatures\\F04 Classroom 10 Temperature.csv\", parse_dates=[\"DateTime\"], index_col=[\"DateTime\"])\n",
    "F16 = pd.read_csv(r\"C:\\Users\\sebas\\Documents\\GitHub\\ClimAIte\\Calibration\\Classroom Temperatures\\F16 Classroom 8 Temperature.csv\", parse_dates=[\"DateTime\"], index_col=[\"DateTime\"])\n",
    "G13 = pd.read_csv(r\"C:\\Users\\sebas\\Documents\\GitHub\\ClimAIte\\Calibration\\Classroom Temperatures\\G13 Classroom 2 Temp.csv\", parse_dates=[\"DateTime\"], index_col=[\"DateTime\"])\n",
    "G36 = pd.read_csv(r\"C:\\Users\\sebas\\Documents\\GitHub\\ClimAIte\\Calibration\\Classroom Temperatures\\G36 Classroom 5 Temp.csv\", parse_dates=[\"DateTime\"], index_col=[\"DateTime\"])"
   ]
  },
  {
   "cell_type": "code",
   "execution_count": 136,
   "metadata": {},
   "outputs": [],
   "source": [
    "F04 = F04.resample('H').mean().round(1)\n",
    "F16 = F16.resample('H').mean().round(1)\n",
    "G13 = G13.resample('H').mean().round(1)\n",
    "G36 = G36.resample('H').mean().round(1)"
   ]
  },
  {
   "cell_type": "code",
   "execution_count": 137,
   "metadata": {},
   "outputs": [],
   "source": [
    "z1_ground = pd.DataFrame()\n",
    "z1_ground['G13'] = G13\n",
    "z1_ground['G36'] = G36\n",
    "z1_ground['Avg_T'] = z1_ground[['G13', 'G36']].mean(axis=1).round(1)\n",
    "z1_ground = z1_ground.loc['2022']\n",
    "z1_ground.fillna(method='ffill',inplace=True)\n",
    "\n",
    "z2_first = pd.DataFrame()\n",
    "z2_first['F04'] = F04\n",
    "z2_first['F16'] = F16\n",
    "z2_first['Avg_T'] = z2_first[['F16', 'F04']].mean(axis=1).round(1)\n",
    "z2_first = z2_first.loc['2022']\n",
    "z2_first.fillna(method='ffill',inplace=True)"
   ]
  },
  {
   "cell_type": "code",
   "execution_count": 138,
   "metadata": {},
   "outputs": [
    {
     "data": {
      "text/html": [
       "<div>\n",
       "<style scoped>\n",
       "    .dataframe tbody tr th:only-of-type {\n",
       "        vertical-align: middle;\n",
       "    }\n",
       "\n",
       "    .dataframe tbody tr th {\n",
       "        vertical-align: top;\n",
       "    }\n",
       "\n",
       "    .dataframe thead th {\n",
       "        text-align: right;\n",
       "    }\n",
       "</style>\n",
       "<table border=\"1\" class=\"dataframe\">\n",
       "  <thead>\n",
       "    <tr style=\"text-align: right;\">\n",
       "      <th></th>\n",
       "      <th>G13</th>\n",
       "      <th>G36</th>\n",
       "      <th>Avg_T</th>\n",
       "    </tr>\n",
       "    <tr>\n",
       "      <th>DateTime</th>\n",
       "      <th></th>\n",
       "      <th></th>\n",
       "      <th></th>\n",
       "    </tr>\n",
       "  </thead>\n",
       "  <tbody>\n",
       "    <tr>\n",
       "      <th>2022-01-01 00:00:00</th>\n",
       "      <td>19.8</td>\n",
       "      <td>20.8</td>\n",
       "      <td>20.3</td>\n",
       "    </tr>\n",
       "    <tr>\n",
       "      <th>2022-01-01 01:00:00</th>\n",
       "      <td>19.8</td>\n",
       "      <td>20.8</td>\n",
       "      <td>20.3</td>\n",
       "    </tr>\n",
       "    <tr>\n",
       "      <th>2022-01-01 02:00:00</th>\n",
       "      <td>19.8</td>\n",
       "      <td>20.8</td>\n",
       "      <td>20.3</td>\n",
       "    </tr>\n",
       "    <tr>\n",
       "      <th>2022-01-01 03:00:00</th>\n",
       "      <td>19.8</td>\n",
       "      <td>20.8</td>\n",
       "      <td>20.3</td>\n",
       "    </tr>\n",
       "    <tr>\n",
       "      <th>2022-01-01 04:00:00</th>\n",
       "      <td>19.8</td>\n",
       "      <td>20.8</td>\n",
       "      <td>20.3</td>\n",
       "    </tr>\n",
       "  </tbody>\n",
       "</table>\n",
       "</div>"
      ],
      "text/plain": [
       "                      G13   G36  Avg_T\n",
       "DateTime                              \n",
       "2022-01-01 00:00:00  19.8  20.8   20.3\n",
       "2022-01-01 01:00:00  19.8  20.8   20.3\n",
       "2022-01-01 02:00:00  19.8  20.8   20.3\n",
       "2022-01-01 03:00:00  19.8  20.8   20.3\n",
       "2022-01-01 04:00:00  19.8  20.8   20.3"
      ]
     },
     "execution_count": 138,
     "metadata": {},
     "output_type": "execute_result"
    }
   ],
   "source": [
    "z1_ground.head()"
   ]
  },
  {
   "cell_type": "code",
   "execution_count": 139,
   "metadata": {},
   "outputs": [],
   "source": [
    "# Z1_Ground.loc['2022']\n",
    "# pd.Timestamp.isocalendar(Z1_Ground.loc['2022'[:]])\n",
    "# Z1_Ground['Week_Number'] = pd.DatetimeIndex.isocalendar(Z1_Ground[:[0]]).week()"
   ]
  },
  {
   "cell_type": "code",
   "execution_count": 140,
   "metadata": {},
   "outputs": [],
   "source": [
    "z1_ground.to_csv(r'C:\\Users\\sebas\\Documents\\GitHub\\ClimAIte\\Calibration\\Classroom Temperatures\\z1_ground_avg_T.csv')\n",
    "z2_first.to_csv(r'C:\\Users\\sebas\\Documents\\GitHub\\ClimAIte\\Calibration\\Classroom Temperatures\\z2_first_avg_T.csv')"
   ]
  },
  {
   "cell_type": "code",
   "execution_count": 141,
   "metadata": {},
   "outputs": [],
   "source": [
    "# EPW manipulations\n",
    "\n",
    "# epwdf = pd.read_csv(\"W:\\Insync\\GDrive\\Main\\TU Delft\\Thesis\\EnergyPlus\\Weather data\\Lake Vyrnwy 2022-23 repaired.epw\",skiprows=8, index_col=False)\n",
    "# epwdf.isna().sum()\n",
    "# epwdf.fillna(method='ffill',inplace=True)\n",
    "# epwdf.isna().sum()\n",
    "# epwdf.iloc[:, [12,13,14,15]]\n",
    "# epwdf.to_csv(\"W:\\Insync\\GDrive\\Main\\TU Delft\\Thesis\\EnergyPlus\\Weather data\\Lake Vyrnwy 2022-23 repaired filled-NA.epw\", index=False)"
   ]
  }
 ],
 "metadata": {
  "kernelspec": {
   "display_name": "Python 3",
   "language": "python",
   "name": "python3"
  },
  "language_info": {
   "codemirror_mode": {
    "name": "ipython",
    "version": 3
   },
   "file_extension": ".py",
   "mimetype": "text/x-python",
   "name": "python",
   "nbconvert_exporter": "python",
   "pygments_lexer": "ipython3",
   "version": "3.11.0"
  },
  "orig_nbformat": 4,
  "vscode": {
   "interpreter": {
    "hash": "1b1170fc97ef267928b9e3be2bafce44f28de6f70dccb90c85dc5acae2d70fa3"
   }
  }
 },
 "nbformat": 4,
 "nbformat_minor": 2
}
