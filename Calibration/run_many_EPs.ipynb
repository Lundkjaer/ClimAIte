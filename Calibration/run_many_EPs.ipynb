{
 "cells": [
  {
   "cell_type": "code",
   "execution_count": 1,
   "metadata": {},
   "outputs": [],
   "source": [
    "import os\n",
    "import pandas as pd\n",
    "from path import Path\n",
    "import zipfile\n",
    "\n",
    "import eppy\n",
    "from eppy import modeleditor\n",
    "from eppy.modeleditor import IDF\n",
    "import eppy.json_functions as json_functions\n",
    "from eppy.results import readhtml\n",
    "\n",
    "from energyplus_wrapper import EPlusRunner, ensure_eplus_root\n",
    "import joblib\n",
    "from joblib import Parallel, delayed\n",
    "\n",
    "# def run_EPs_parallel_custom(current_gen):\n",
    "\n",
    "# x take in pandas of generation\n",
    "# x use eppy to load and edit base_idf file to fit children\n",
    "# use run_many_EP from EP-wrapper to run whole generation and save to subfolders\n",
    "# x use eppy to read html results - https://eppy.readthedocs.io/en/latest/Outputs_Tutorial.html\n",
    "# return html single kwh/m2 converted from MJ/m2 to function"
   ]
  },
  {
   "cell_type": "code",
   "execution_count": 2,
   "metadata": {},
   "outputs": [],
   "source": [
    "df_all_cols = pd.read_csv(r\"C:\\Users\\sebas\\Documents\\GitHub\\ClimAIte\\data_records\\record_0\", sep=',')\n",
    "\n",
    "\n",
    "fname1_base_idf = r\"W:\\Insync\\GDrive\\Main\\TU Delft\\Thesis\\EnergyPlus\\Calibration files\\Base_model.idf\"\n",
    "epw_main = r\"W:\\Insync\\GDrive\\Main\\TU Delft\\Thesis\\EnergyPlus\\Calibration files\\GBR_WAL_Lake.Vyrnwy.034100_TMYx.2007-2021.epw\"\n",
    "\n",
    "eplus_root = \"C:\\EnergyPlusV22-2-0\" #for ep-wrapper\n",
    "archive_folder = Path(\"W:\\Insync\\GDrive\\Main\\TU Delft\\Thesis\\EnergyPlus\\Calibration files\\IDFs\\IDF results backups\").abspath() # for ep-wrapper file back-up\n",
    "\n",
    "iddfile = r\"C:\\EnergyPlusV22-2-0\\Energy+.idd\"\n",
    "IDF.setiddname(iddfile)\n",
    "idf_base = IDF(fname1_base_idf)\n",
    "\n",
    "\n"
   ]
  },
  {
   "cell_type": "code",
   "execution_count": 3,
   "metadata": {},
   "outputs": [
    {
     "name": "stdout",
     "output_type": "stream",
     "text": [
      "{'idf.People.People_5a9ee43c.People_per_Floor_Area': 0.05, 'idf.ElectricEquipment.Equipment_d01c6929.Watts_per_Zone_Floor_Area': 7, 'idf.ZoneInfiltration:DesignFlowRate.Infiltration_d1fbaf75.Flow_Rate_per_Exterior_Surface_Area': 0.00022, 'idf.WindowMaterial:SimpleGlazingSystem.PH_Window.UFactor': 0.8, 'idf.WindowMaterial:SimpleGlazingSystem.PH_Window.Solar_Heat_Gain_Coefficient': 0.8, 'idf.Material:NoMass.Typical Insulation-R50.Thermal_Resistance': 9, 'idf.Material.Generic Gypsum Board.Specific_Heat': 1900, 'idf.ZoneHVAC:IdealLoadsAirSystem.Z1_Ground_Floor_48970ba6 Ideal Loads Air System.Sensible_Heat_Recovery_Effectiveness': 0.95, 'idf.ZoneHVAC:IdealLoadsAirSystem.Z2_First_Floor_9e34b4d3 Ideal Loads Air System.Sensible_Heat_Recovery_Effectiveness': 0.95}\n",
      "0\n"
     ]
    }
   ],
   "source": [
    "# take dataframe, duplicate HVAC column for Zone 2. Then take only idf columns and get index start.\n",
    "\n",
    "df_all_cols['idf.ZoneHVAC:IdealLoadsAirSystem.Z2_First_Floor_9e34b4d3 Ideal Loads Air System.Sensible_Heat_Recovery_Effectiveness'] = df_all_cols['idf.ZoneHVAC:IdealLoadsAirSystem.Z1_Ground_Floor_48970ba6 Ideal Loads Air System.Sensible_Heat_Recovery_Effectiveness']\n",
    "df_idf_only = df_all_cols.filter(regex='idf', axis=1)\n",
    "df_idf_only.head()\n",
    "list_of_strings = []\n",
    "keys = df_idf_only.columns.values.tolist()\n",
    "index_start = df_idf_only.index.values.tolist()[0]\n",
    "for row in range(df_idf_only.shape[0]):\n",
    "        dict = {}\n",
    "        for i in keys:\n",
    "                dict[i] = df_idf_only.at[index_start + row, i]\n",
    "        list_of_strings.append(dict)\n",
    "# print(list_of_strings[1])\n",
    "# print(index_start)"
   ]
  },
  {
   "cell_type": "code",
   "execution_count": 6,
   "metadata": {},
   "outputs": [],
   "source": [
    "# create all IDFs\n",
    "\n",
    "unique_name_list = []\n",
    "\n",
    "for i in range(df_idf_only.shape[0]):\n",
    "    current_name = df_all_cols.at[index_start + i, 'Unique Name']\n",
    "    unique_name_list.append(current_name)\n",
    "    json_str = list_of_strings[i]\n",
    "    json_functions.updateidf(idf_base, json_str)\n",
    "    idf_base.saveas(f'W:\\Insync\\GDrive\\Main\\TU Delft\\Thesis\\EnergyPlus\\Calibration files\\IDFs\\Gene-{current_name}.idf')"
   ]
  },
  {
   "cell_type": "code",
   "execution_count": 9,
   "metadata": {},
   "outputs": [
    {
     "name": "stdout",
     "output_type": "stream",
     "text": [
      "{'0-0': ('W:\\\\Insync\\\\GDrive\\\\Main\\\\TU Delft\\\\Thesis\\\\EnergyPlus\\\\Calibration files\\\\IDFs\\\\Gene-0-0.idf', 'W:\\\\Insync\\\\GDrive\\\\Main\\\\TU Delft\\\\Thesis\\\\EnergyPlus\\\\Calibration files\\\\GBR_WAL_Lake.Vyrnwy.034100_TMYx.2007-2021.epw'), '0-1': ('W:\\\\Insync\\\\GDrive\\\\Main\\\\TU Delft\\\\Thesis\\\\EnergyPlus\\\\Calibration files\\\\IDFs\\\\Gene-0-1.idf', 'W:\\\\Insync\\\\GDrive\\\\Main\\\\TU Delft\\\\Thesis\\\\EnergyPlus\\\\Calibration files\\\\GBR_WAL_Lake.Vyrnwy.034100_TMYx.2007-2021.epw'), '0-2': ('W:\\\\Insync\\\\GDrive\\\\Main\\\\TU Delft\\\\Thesis\\\\EnergyPlus\\\\Calibration files\\\\IDFs\\\\Gene-0-2.idf', 'W:\\\\Insync\\\\GDrive\\\\Main\\\\TU Delft\\\\Thesis\\\\EnergyPlus\\\\Calibration files\\\\GBR_WAL_Lake.Vyrnwy.034100_TMYx.2007-2021.epw'), '0-3': ('W:\\\\Insync\\\\GDrive\\\\Main\\\\TU Delft\\\\Thesis\\\\EnergyPlus\\\\Calibration files\\\\IDFs\\\\Gene-0-3.idf', 'W:\\\\Insync\\\\GDrive\\\\Main\\\\TU Delft\\\\Thesis\\\\EnergyPlus\\\\Calibration files\\\\GBR_WAL_Lake.Vyrnwy.034100_TMYx.2007-2021.epw'), '0-4': ('W:\\\\Insync\\\\GDrive\\\\Main\\\\TU Delft\\\\Thesis\\\\EnergyPlus\\\\Calibration files\\\\IDFs\\\\Gene-0-4.idf', 'W:\\\\Insync\\\\GDrive\\\\Main\\\\TU Delft\\\\Thesis\\\\EnergyPlus\\\\Calibration files\\\\GBR_WAL_Lake.Vyrnwy.034100_TMYx.2007-2021.epw')}\n"
     ]
    }
   ],
   "source": [
    "# prep files for parallel\n",
    "samples = {}\n",
    "for name in unique_name_list:\n",
    "    samples[name] = f'W:\\Insync\\GDrive\\Main\\TU Delft\\Thesis\\EnergyPlus\\Calibration files\\IDFs\\Gene-{name}.idf', epw_main\n",
    "print(samples)"
   ]
  },
  {
   "cell_type": "code",
   "execution_count": null,
   "metadata": {},
   "outputs": [],
   "source": [
    "# run in parallel\n",
    "runner = EPlusRunner(eplus_root)\n",
    "\n",
    "with joblib.parallel_backend(\"loky\", n_jobs=10):\n",
    "    sims = runner.run_many(samples, backup_strategy='always', backup_dir=archive_folder, version_mismatch_action='ignore')\n",
    "\n",
    "list_of_sims = list(sims.values())\n"
   ]
  },
  {
   "cell_type": "code",
   "execution_count": null,
   "metadata": {},
   "outputs": [],
   "source": [
    "# Results from sims dictionaries\n",
    "EUI_results = []\n",
    "for simulation in list_of_sims:\n",
    "    assert simulation.reports['Annual_Building_Utility_Performance_Summary_for_Entire_Facility']['Site and Source Energy'].columns[1] == 'Energy Per Total Building Area [MJ/m2]'\n",
    "    MJ_m2 = simulation.reports['Annual_Building_Utility_Performance_Summary_for_Entire_Facility']['Site and Source Energy'].iat[0,1]\n",
    "    EUI_kWh_m2 = MJ_m2 * 0.2777777 #conversion from MJ to kWh\n",
    "    EUI_results.append(EUI_kWh_m2)\n",
    "\n",
    "print(EUI_results)"
   ]
  },
  {
   "attachments": {},
   "cell_type": "markdown",
   "metadata": {},
   "source": [
    "\n",
    "# old\n",
    "\n",
    "\n",
    "\n"
   ]
  },
  {
   "cell_type": "code",
   "execution_count": null,
   "metadata": {},
   "outputs": [],
   "source": [
    "1/0 # below is previous method with extraction from html saved file"
   ]
  },
  {
   "cell_type": "code",
   "execution_count": null,
   "metadata": {},
   "outputs": [],
   "source": [
    "results_from_htmls = []\n",
    "# Make loop and save to list\n",
    "\n",
    "# read results from html\n",
    "test_html = r\"W:\\Insync\\GDrive\\Main\\TU Delft\\Thesis\\EnergyPlus\\OSM Run test 7 - short period\\Whole_Building_Model\\openstudio\\run\\eplustbl.htm\"\n",
    "# temp_html = f'W:\\Insync\\GDrive\\Main\\TU Delft\\Thesis\\EnergyPlus\\Calibration files\\IDFs\\Gene-{current_name}.htm' !!! Change folder path to outputs\n",
    "filehandle = open(test_html, 'r').read()\n",
    "htables = readhtml.titletable(filehandle) # reads the tables with their titles\n"
   ]
  },
  {
   "cell_type": "code",
   "execution_count": null,
   "metadata": {},
   "outputs": [
    {
     "name": "stdout",
     "output_type": "stream",
     "text": [
      "Site and Source Energy\n",
      "43.66\n",
      "12.127774382\n"
     ]
    }
   ],
   "source": [
    "print(htables[0][0])\n",
    "assert htables[0][0] == 'Site and Source Energy', 'the first item in the html is not Site and Source Energy, hence the read result will be wrong. This is used to read the kWh/m2 use.'\n",
    "print(htables[0][1][1][2])\n",
    "MJ_m2 = htables[0][1][1][2]\n",
    "EUI_kWh_m2 = MJ_m2 * 0.2777777 #conversion from MJ to kWh\n",
    "print(EUI_kWh_m2)\n"
   ]
  }
 ],
 "metadata": {
  "kernelspec": {
   "display_name": "base",
   "language": "python",
   "name": "python3"
  },
  "language_info": {
   "codemirror_mode": {
    "name": "ipython",
    "version": 3
   },
   "file_extension": ".py",
   "mimetype": "text/x-python",
   "name": "python",
   "nbconvert_exporter": "python",
   "pygments_lexer": "ipython3",
   "version": "3.9.5"
  },
  "orig_nbformat": 4
 },
 "nbformat": 4,
 "nbformat_minor": 2
}
