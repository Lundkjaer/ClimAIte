{
 "cells": [
  {
   "cell_type": "code",
   "execution_count": 32,
   "metadata": {},
   "outputs": [],
   "source": [
    "# Data, hourly weather data\n",
    "\n",
    "# External temperatures\n",
    "future_ext_temp = [ 3.6,  4. ,  4.2,  4.2,  3.7,  4.2,  4.2,  4. ,  3. ,  1.1,  2.2,\n",
    "        3.6,  4.5,  4.5,  4.7,  4.6,  4.5,  4.6,  4.7,  4.5,  4. ,  4.2,\n",
    "        4. ,  3.6,  3.2,  3. ,  2.5,  2.2,  3.2,  2.5,  3. ,  2.7,  3.1,\n",
    "        3.1,  4. ,  6.7,  8.2,  8. ,  7.1,  6.7,  6.6,  5.7,  6.2,  7.7,\n",
    "        9.6,  7.2,  7. ,  6.7,  5.6,  4.7,  4.2,  4.6,  4.6,  4.6,  4.7,\n",
    "        5. ,  5.1,  5.2,  5.7,  5.6,  5.6,  5.7,  6. ,  6.2,  6.2,  6.2,\n",
    "        6.2,  6.1,  6.1,  6. ,  5.7,  5.6,  5.5,  5.2,  5. ,  3. ,  2.5,\n",
    "        2.2,  2.2,  2.2,  6.7,  7.7,  7. ,  7.1,  7.1,  4.5,  4. ,  4. ,\n",
    "        4.1,  4. ,  3.6,  3.7,  4. ,  3.2,  3. ,  3. ,  2.7,  2.5,  2.2,\n",
    "        1.2,  1.2,  1.5,  1.5,  0.6,  0.5,  1.5,  2. ,  2. ,  3. ,  3.5,\n",
    "        3.5,  2.2,  2. ,  1. ,  1.1, -0.2,  0. ,  0. ,  0.5,  1. ,  1.5,\n",
    "        1.7,  2. ,  1.5,  1.7,  1.7,  1.7,  2. ,  2. ,  2. ,  2.5,  2.7,\n",
    "        2.7,  2.7,  2.7,  2.6,  2.2,  2.2,  1.5,  1.7,  1.5,  1.2,  1.2,\n",
    "        1. ,  0.7,  0.7,  0.7,  0.7,  0.7,  1.1,  0.6,  1. ,  0.5,  1. ,\n",
    "        1.2,  1.6,  1.5,  1.2,  1.1,  0.5,  0. , -0.2, -0.5, -0.7, -0.9,\n",
    "       -1.5, -1.4, -1.4, -1.5, -1.5, -1.5, -1.2, -1.2, -1.5, -1.7, -1.9,\n",
    "       -1.9, -1.2, -0.9, -1. , -1. , -1.2, -1. , -1. , -1. , -0.7, -0.7,\n",
    "       -0.5, -0.4, -0.4, -0.2, -0.2, -0.2, -0.2, -0.4, -0.5, -0.5, -0.5,\n",
    "       -0.5, -0.4]\n",
    "\n",
    "# Solar radiation\n",
    "future_global_rad = [  0,   0,   0,   0,   0,   0,   0,  96, 226, 395, 500, 370, 239,\n",
    "       155,  51,   0,   0,   0,   0,   0,   0,   0,   0,   0,   0,   0,\n",
    "         0,   0,   0,   0,   0,   0,   0,   0,   1,  22,  25,   3,   0,\n",
    "         0,   0,   0,   0,   0,   0,   0,   0,   0,   0,   0,   0,   0,\n",
    "         0,   0,   0,  69, 173, 284, 361, 340, 298, 250, 110,   0,   0,\n",
    "         0,   0,   0,   0,   0,   0,   0,   0,   0,   0,   0,   0,   0,\n",
    "         0,  46, 109,  86, 107, 120,  87,  95,  44,   0,   0,   0,   0,\n",
    "         0,   0,   0,   0,   0,   0,   0,   0,   0,   0,   0,   0,  15,\n",
    "        24,  32,  38,  52, 107,  95,  26,   0,   0,   0,   0,   0,   0,\n",
    "         0,   0,   0,   0,   0,   0,   0,   0,   0,   0,  26,  80, 114,\n",
    "       230, 381, 384, 295, 123,   0,   0,   0,   0,   0,   0,   0,   0,\n",
    "         0,   0,   0,   0,   0,   0,   0,   0, 163, 427, 589, 660, 633,\n",
    "       569, 445, 173,   0,   0,   0,   0,   0,   0,   0,   0,   0,   0,\n",
    "         0,   0,   0,   0,   0,   0, 163, 290, 225, 133,  88,  69,  41,\n",
    "        25,   0,   0,   0,   0,   0,   0,   0,   0,   0,   0,   0,   0,\n",
    "         0,   0,   0,   0,  29]\n",
    "\n",
    "# Is it work hour, yes/no\n",
    "future_work_hour_booleans = [0,0,0,0,0,0,0,0,1,1,1,1,1,1,1,1,0,0,0,0,0,0,0,0,\n",
    "                             0,0,0,0,0,0,0,0,1,1,1,1,1,1,1,1,0,0,0,0,0,0,0,0,\n",
    "                             0,0,0,0,0,0,0,0,1,1,1,1,1,1,1,1,0,0,0,0,0,0,0,0,\n",
    "                             0,0,0,0,0,0,0,0,1,1,1,1,1,1,1,1,0,0,0,0,0,0,0,0,\n",
    "                             0,0,0,0,0,0,0,0,1,1,1,1,1,1,1,1,0,0,0,0,0,0,0,0,\n",
    "                             0,0,0,0,0,0,0,0,1,1,1,1,1,1,1,1,0,0,0,0,0,0,0,0,\n",
    "                             0,0,0,0,0,0,0,0,1,1,1,1,1,1,1,1,0,0,0,0,0,0,0,0,\n",
    "                             0,0,0,0,0,0,0,0,1,1,1,1,1,1,1,1,0,0,0,0,0,0,0,0]\n"
   ]
  },
  {
   "cell_type": "code",
   "execution_count": 80,
   "metadata": {},
   "outputs": [
    {
     "name": "stdout",
     "output_type": "stream",
     "text": [
      "[0.6769005060195923, 0.44743749499320984, 0.056788358837366104, -0.8265143632888794]\n"
     ]
    }
   ],
   "source": [
    "import numpy as np\n",
    "import torch\n",
    "import torch.nn as nn\n",
    "\n",
    "# general function to normalise inputs\n",
    "def normalise(xvalue, xmin, xmax):\n",
    "    xvalue = np.clip(xvalue, xmin, xmax)\n",
    "    return round( (xvalue - xmin) / (xmax - xmin) , 5)\n",
    "\n",
    "l_shift = 0 # for shifting / cycling through lists\n",
    "\n",
    "future_work_hour_booleans_norm = [float(normalise(x, 0, 1)) for x in future_work_hour_booleans[l_shift:l_shift+24]]\n",
    "future_global_rad_norm = [float(normalise(x, 0, 1000)) for x in future_global_rad[l_shift:l_shift+24]]\n",
    "future_ext_temp_norm = [float(normalise(x, -10, 40)) for x in future_ext_temp[l_shift:l_shift+24]]\n",
    "\n",
    "def rnn_reduction(normed_list):\n",
    "    torch.manual_seed(150795)\n",
    "    normed_rev = list(reversed(normed_list))\n",
    "    rnn = nn.RNN(len(normed_rev), 4, 1)\n",
    "    normedtensor = torch.tensor(normed_rev)\n",
    "    normed2D = torch.unsqueeze(normedtensor, 0)\n",
    "    input = torch.FloatTensor(normed2D)\n",
    "    h0 = torch.rand(1, 4)\n",
    "    output, hn = rnn(input, h0)\n",
    "    return output.tolist()[0]\n",
    "\n",
    "\n",
    "future_works_bool_rnn = rnn_reduction(future_work_hour_booleans_norm)\n",
    "future_global_rad_rnn = rnn_reduction(future_global_rad_norm)\n",
    "future_ext_temp_rnn = rnn_reduction(future_ext_temp_norm)\n",
    "\n",
    "\n",
    "print(future_ext_temp_rnn)"
   ]
  },
  {
   "cell_type": "code",
   "execution_count": 35,
   "metadata": {},
   "outputs": [
    {
     "name": "stdout",
     "output_type": "stream",
     "text": [
      "[3.6, 4.0, 4.2, 4.2, 3.7, 4.2, 4.2, 4.0, 3.0, 1.1, 2.2, 3.6, 4.5, 4.5, 4.7, 4.6, 4.5, 4.6, 4.7, 4.5, 4.0, 4.2, 4.0, 3.6, 3.2, 3.0, 2.5, 2.2, 3.2, 2.5, 3.0, 2.7, 3.1, 3.1, 4.0, 6.7, 8.2, 8.0, 7.1, 6.7, 6.6, 5.7, 6.2, 7.7, 9.6, 7.2, 7.0, 6.7, 5.6, 4.7, 4.2, 4.6, 4.6, 4.6, 4.7, 5.0, 5.1, 5.2, 5.7, 5.6, 5.6, 5.7, 6.0, 6.2, 6.2, 6.2, 6.2, 6.1, 6.1, 6.0, 5.7, 5.6, 5.5, 5.2, 5.0, 3.0, 2.5, 2.2, 2.2, 2.2, 6.7, 7.7, 7.0, 7.1, 7.1, 4.5, 4.0, 4.0, 4.1, 4.0, 3.6, 3.7, 4.0, 3.2, 3.0, 3.0, 2.7, 2.5, 2.2, 1.2, 1.2, 1.5, 1.5, 0.6, 0.5, 1.5, 2.0, 2.0, 3.0, 3.5, 3.5, 2.2, 2.0, 1.0, 1.1, -0.2, 0.0, 0.0, 0.5, 1.0, 1.5, 1.7, 2.0, 1.5, 1.7, 1.7, 1.7, 2.0, 2.0, 2.0, 2.5, 2.7, 2.7, 2.7, 2.7, 2.6, 2.2, 2.2, 1.5, 1.7, 1.5, 1.2, 1.2, 1.0, 0.7, 0.7, 0.7, 0.7, 0.7, 1.1, 0.6, 1.0, 0.5, 1.0, 1.2, 1.6, 1.5, 1.2, 1.1, 0.5, 0.0, -0.2, -0.5, -0.7, -0.9, -1.5, -1.4, -1.4, -1.5, -1.5, -1.5, -1.2, -1.2, -1.5, -1.7, -1.9, -1.9, -1.2, -0.9, -1.0, -1.0, -1.2, -1.0, -1.0, -1.0, -0.7, -0.7, -0.5, -0.4, -0.4, -0.2, -0.2, -0.2, -0.2, -0.4, -0.5, -0.5, -0.5, -0.5, -0.4]\n",
      "[4.2, 4.2, 4.0, 3.6]\n",
      "[4.2, 3.7, 4.2, 4.2, 4.0, 3.6]\n"
     ]
    }
   ],
   "source": [
    "print(future_ext_temp)\n",
    "print(list(reversed(future_ext_temp[:4])))\n",
    "print(list(reversed(future_ext_temp[:6])))\n",
    "\n",
    "# print([future_ext_temp.pop(0) for x in range(20)])"
   ]
  }
 ],
 "metadata": {
  "kernelspec": {
   "display_name": "Python 3",
   "language": "python",
   "name": "python3"
  },
  "language_info": {
   "codemirror_mode": {
    "name": "ipython",
    "version": 3
   },
   "file_extension": ".py",
   "mimetype": "text/x-python",
   "name": "python",
   "nbconvert_exporter": "python",
   "pygments_lexer": "ipython3",
   "version": "3.11.0"
  },
  "orig_nbformat": 4
 },
 "nbformat": 4,
 "nbformat_minor": 2
}
